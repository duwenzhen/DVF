{
 "cells": [
  {
   "cell_type": "code",
   "execution_count": 2,
   "metadata": {},
   "outputs": [],
   "source": [
    "import numpy as np # linear algebra\n",
    "import pandas as pd # data processing, CSV file I/O (e.g. pd.read_csv)\n",
    "import matplotlib.pyplot as plt\n",
    "import seaborn as sns\n",
    "import glob\n",
    "from subprocess import check_output\n",
    "color = sns.color_palette()\n",
    "%matplotlib inline"
   ]
  },
  {
   "cell_type": "code",
   "execution_count": 3,
   "metadata": {},
   "outputs": [
    {
     "name": "stdout",
     "output_type": "stream",
     "text": [
      "appartement.csv\n",
      "AppartementNormalized.py\n",
      "Appartement.py\n",
      "DVF.ipynb\n",
      "Main.py\n",
      "README.md\n",
      "valeursfoncieres-2014.csv\n",
      "valeursfoncieres-2015.csv\n",
      "valeursfoncieres-2016.csv\n",
      "valeursfoncieres-2017.csv\n",
      "valeursfoncieres-2018.csv\n",
      "venv\n",
      "\n"
     ]
    }
   ],
   "source": [
    "#list all the files\n",
    "path = r\".\"\n",
    "print(check_output([\"ls\", path]).decode(\"utf8\"))\n",
    "all_files = glob.glob(path + \"/valeursfoncieres*.csv\")"
   ]
  },
  {
   "cell_type": "code",
   "execution_count": 4,
   "metadata": {},
   "outputs": [
    {
     "name": "stderr",
     "output_type": "stream",
     "text": [
      "/home/wenzhen/.local/lib/python3.6/site-packages/IPython/core/interactiveshell.py:3049: DtypeWarning: Columns (14,18,23,24,26,28,29,31,33,41) have mixed types. Specify dtype option on import or set low_memory=False.\n",
      "  interactivity=interactivity, compiler=compiler, result=result)\n"
     ]
    },
    {
     "name": "stdout",
     "output_type": "stream",
     "text": [
      "   No disposition Date mutation Nature mutation Valeur fonciere  No voie  \\\n",
      "0               1    02/01/2017           Vente        27000,00     83.0   \n",
      "1               1    05/01/2017           Vente       115000,00      0.0   \n",
      "2               1    06/01/2017           Vente            1,00      0.0   \n",
      "3               1    06/01/2017           Vente            1,00      0.0   \n",
      "4               1    06/01/2017           Vente            1,00      0.0   \n",
      "\n",
      "  B/T/Q Type de voie Code voie           Voie  Code postal  ...  \\\n",
      "0     0          RUE      0820  CHARLES ROBIN       1000.0  ...   \n",
      "1     0            0      B032     LES VAVRES       1960.0  ...   \n",
      "2     0            0      B080       LA POIPE       1380.0  ...   \n",
      "3     0            0      B080       LA POIPE       1380.0  ...   \n",
      "4     0            0      B080       LA POIPE       1380.0  ...   \n",
      "\n",
      "  Surface Carrez du 5eme lot Nombre de lots  Code type local   Type local  \\\n",
      "0                          0              2              2.0  Appartement   \n",
      "1                          0              0              0.0            0   \n",
      "2                          0              0              0.0            0   \n",
      "3                          0              0              0.0            0   \n",
      "4                          0              0              0.0            0   \n",
      "\n",
      "  Identifiant local  Surface reelle bati Nombre pieces principales  \\\n",
      "0               0.0                 37.0                       2.0   \n",
      "1               0.0                  0.0                       0.0   \n",
      "2               0.0                  0.0                       0.0   \n",
      "3               0.0                  0.0                       0.0   \n",
      "4               0.0                  0.0                       0.0   \n",
      "\n",
      "  Nature culture Nature culture speciale Surface terrain  \n",
      "0              0                       0             0.0  \n",
      "1             AB                       0           788.0  \n",
      "2              P                       0            42.0  \n",
      "3              P                       0            77.0  \n",
      "4              P                       0            94.0  \n",
      "\n",
      "[5 rows x 36 columns]\n",
      "(3361073, 36)\n"
     ]
    },
    {
     "name": "stderr",
     "output_type": "stream",
     "text": [
      "/home/wenzhen/.local/lib/python3.6/site-packages/IPython/core/interactiveshell.py:3049: DtypeWarning: Columns (14,18,23,24,26,28,31,32,33,41) have mixed types. Specify dtype option on import or set low_memory=False.\n",
      "  interactivity=interactivity, compiler=compiler, result=result)\n"
     ]
    },
    {
     "name": "stdout",
     "output_type": "stream",
     "text": [
      "   No disposition Date mutation Nature mutation Valeur fonciere  No voie  \\\n",
      "0               1    03/01/2018           Vente       109000,00     13.0   \n",
      "1               1    03/01/2018           Vente       109000,00     13.0   \n",
      "2               1    04/01/2018           Vente       239300,00      4.0   \n",
      "3               1    04/01/2018           Vente       239300,00      4.0   \n",
      "4               1    04/01/2018           Vente       239300,00      4.0   \n",
      "\n",
      "  B/T/Q Type de voie Code voie            Voie  Code postal  ...  \\\n",
      "0     0          RUE      1660     GEN LOGEROT       1000.0  ...   \n",
      "1     0          RUE      1660     GEN LOGEROT       1000.0  ...   \n",
      "2     0          RUE      0025  DE LA BARMETTE       1250.0  ...   \n",
      "3     0          RUE      0025  DE LA BARMETTE       1250.0  ...   \n",
      "4     0          RUE      0025  DE LA BARMETTE       1250.0  ...   \n",
      "\n",
      "  Surface Carrez du 5eme lot Nombre de lots  Code type local   Type local  \\\n",
      "0                          0              1              3.0   Dépendance   \n",
      "1                          0              2              2.0  Appartement   \n",
      "2                          0              0              1.0       Maison   \n",
      "3                          0              0              1.0       Maison   \n",
      "4                          0              0              1.0       Maison   \n",
      "\n",
      "  Identifiant local  Surface reelle bati Nombre pieces principales  \\\n",
      "0               0.0                  0.0                       0.0   \n",
      "1               0.0                 73.0                       4.0   \n",
      "2               0.0                163.0                       4.0   \n",
      "3               0.0                 51.0                       2.0   \n",
      "4               0.0                 51.0                       2.0   \n",
      "\n",
      "  Nature culture Nature culture speciale Surface terrain  \n",
      "0              0                       0             0.0  \n",
      "1              0                       0             0.0  \n",
      "2              S                       0           949.0  \n",
      "3             AG                    JARD           420.0  \n",
      "4              S                       0           949.0  \n",
      "\n",
      "[5 rows x 36 columns]\n",
      "(2339002, 36)\n"
     ]
    },
    {
     "name": "stderr",
     "output_type": "stream",
     "text": [
      "/home/wenzhen/.local/lib/python3.6/site-packages/IPython/core/interactiveshell.py:3049: DtypeWarning: Columns (18,23,24,26,28,30,31,33,41) have mixed types. Specify dtype option on import or set low_memory=False.\n",
      "  interactivity=interactivity, compiler=compiler, result=result)\n"
     ]
    },
    {
     "name": "stdout",
     "output_type": "stream",
     "text": [
      "   No disposition Date mutation Nature mutation Valeur fonciere  No voie  \\\n",
      "0               2    05/01/2015           Vente          120,00      0.0   \n",
      "1               1    09/01/2015           Vente        12400,00      0.0   \n",
      "2               2    05/01/2015           Vente          110,00      0.0   \n",
      "3               2    07/01/2015           Vente          180,00      0.0   \n",
      "4               1    12/01/2015           Vente        95000,00   5383.0   \n",
      "\n",
      "  B/T/Q Type de voie Code voie               Voie  Code postal  ...  \\\n",
      "0     0            0      B181  ENTRE LES CHEMINS       1250.0  ...   \n",
      "1     0            0      B100           VIGNIEUX       1340.0  ...   \n",
      "2     0            0      B181  ENTRE LES CHEMINS       1250.0  ...   \n",
      "3     0            0      B181  ENTRE LES CHEMINS       1250.0  ...   \n",
      "4     0            0      B026           LE BOURG       1160.0  ...   \n",
      "\n",
      "  Surface Carrez du 5eme lot Nombre de lots  Code type local  Type local  \\\n",
      "0                          0              0              0.0           0   \n",
      "1                          0              0              0.0           0   \n",
      "2                          0              0              0.0           0   \n",
      "3                          0              0              0.0           0   \n",
      "4                          0              0              3.0  Dépendance   \n",
      "\n",
      "  Identifiant local  Surface reelle bati Nombre pieces principales  \\\n",
      "0               0.0                  0.0                       0.0   \n",
      "1               0.0                  0.0                       0.0   \n",
      "2               0.0                  0.0                       0.0   \n",
      "3               0.0                  0.0                       0.0   \n",
      "4               0.0                  0.0                       0.0   \n",
      "\n",
      "  Nature culture Nature culture speciale Surface terrain  \n",
      "0              P                       0            82.0  \n",
      "1             AB                       0          1550.0  \n",
      "2              P                       0             4.0  \n",
      "3              P                       0           298.0  \n",
      "4              S                       0           195.0  \n",
      "\n",
      "[5 rows x 36 columns]\n",
      "(2749830, 36)\n"
     ]
    },
    {
     "name": "stderr",
     "output_type": "stream",
     "text": [
      "/home/wenzhen/.local/lib/python3.6/site-packages/IPython/core/interactiveshell.py:3049: DtypeWarning: Columns (14,18,23,24,26,28,29,30,31,32,33,41) have mixed types. Specify dtype option on import or set low_memory=False.\n",
      "  interactivity=interactivity, compiler=compiler, result=result)\n"
     ]
    },
    {
     "name": "stdout",
     "output_type": "stream",
     "text": [
      "   No disposition Date mutation Nature mutation Valeur fonciere  No voie  \\\n",
      "0               1    08/01/2016           Vente        40000,00     77.0   \n",
      "1               1    11/01/2016           Vente         1677,00      0.0   \n",
      "2               1    11/01/2016           Vente         1677,00      0.0   \n",
      "3               1    11/01/2016           Vente         1677,00      0.0   \n",
      "4               1    11/01/2016           Vente         1677,00   5246.0   \n",
      "\n",
      "  B/T/Q Type de voie Code voie           Voie  Code postal  ...  \\\n",
      "0     0          RUE      0560  TONY REVILLON       1750.0  ...   \n",
      "1     0            0      B011  LES BROTTEAUX       1160.0  ...   \n",
      "2     0            0      B011  LES BROTTEAUX       1160.0  ...   \n",
      "3     0            0      B011  LES BROTTEAUX       1160.0  ...   \n",
      "4     0            0      B011  LES BROTTEAUX       1160.0  ...   \n",
      "\n",
      "  Surface Carrez du 5eme lot Nombre de lots  Code type local  \\\n",
      "0                          0              1              2.0   \n",
      "1                          0              0              0.0   \n",
      "2                          0              0              0.0   \n",
      "3                          0              0              0.0   \n",
      "4                          0              0              4.0   \n",
      "\n",
      "                                 Type local Identifiant local  \\\n",
      "0                               Appartement               0.0   \n",
      "1                                         0               0.0   \n",
      "2                                         0               0.0   \n",
      "3                                         0               0.0   \n",
      "4  Local industriel. commercial ou assimilé               0.0   \n",
      "\n",
      "   Surface reelle bati Nombre pieces principales Nature culture  \\\n",
      "0                 50.0                       2.0              0   \n",
      "1                  0.0                       0.0              L   \n",
      "2                  0.0                       0.0              L   \n",
      "3                  0.0                       0.0              L   \n",
      "4                  0.0                       0.0              S   \n",
      "\n",
      "  Nature culture speciale Surface terrain  \n",
      "0                       0             0.0  \n",
      "1                       0          1486.0  \n",
      "2                       0          3904.0  \n",
      "3                       0          1779.0  \n",
      "4                       0           838.0  \n",
      "\n",
      "[5 rows x 36 columns]\n",
      "(2936524, 36)\n"
     ]
    },
    {
     "name": "stderr",
     "output_type": "stream",
     "text": [
      "/home/wenzhen/.local/lib/python3.6/site-packages/IPython/core/interactiveshell.py:3049: DtypeWarning: Columns (18,23,24,26,28,31,33,41) have mixed types. Specify dtype option on import or set low_memory=False.\n",
      "  interactivity=interactivity, compiler=compiler, result=result)\n"
     ]
    },
    {
     "name": "stdout",
     "output_type": "stream",
     "text": [
      "   No disposition Date mutation Nature mutation Valeur fonciere  No voie  \\\n",
      "0               1    09/01/2014           Vente       251500,00    532.0   \n",
      "1               1    09/01/2014           Vente       174500,00     22.0   \n",
      "2               1    09/01/2014           Vente       174500,00     22.0   \n",
      "3               1    02/01/2014           Vente       157500,00   1389.0   \n",
      "4               1    02/01/2014           Vente       157500,00   1369.0   \n",
      "\n",
      "  B/T/Q Type de voie Code voie           Voie  Code postal  ...  \\\n",
      "0     0          RTE      0006    DE MEZERIAT       1310.0  ...   \n",
      "1     0           BD      2540    MAL LECLERC       1000.0  ...   \n",
      "2     0           BD      2540    MAL LECLERC       1000.0  ...   \n",
      "3     0          RTE      0201  DE STRASBOURG       1440.0  ...   \n",
      "4     0          RTE      0201  DE STRASBOURG       1440.0  ...   \n",
      "\n",
      "  Surface Carrez du 5eme lot Nombre de lots  Code type local   Type local  \\\n",
      "0                          0              0              1.0       Maison   \n",
      "1                          0              2              2.0  Appartement   \n",
      "2                          0              1              3.0   Dépendance   \n",
      "3                          0              0              0.0            0   \n",
      "4                          0              0              1.0       Maison   \n",
      "\n",
      "  Identifiant local  Surface reelle bati Nombre pieces principales  \\\n",
      "0               0.0                147.0                       5.0   \n",
      "1               0.0                 80.0                       2.0   \n",
      "2               0.0                  0.0                       0.0   \n",
      "3               0.0                  0.0                       0.0   \n",
      "4               0.0                103.0                       4.0   \n",
      "\n",
      "  Nature culture Nature culture speciale Surface terrain  \n",
      "0              S                       0          1501.0  \n",
      "1              0                       0             0.0  \n",
      "2              0                       0             0.0  \n",
      "3              S                       0            24.0  \n",
      "4              S                       0          1569.0  \n",
      "\n",
      "[5 rows x 36 columns]\n",
      "(2516688, 36)\n"
     ]
    },
    {
     "data": {
      "text/plain": [
       "(13903117, 36)"
      ]
     },
     "execution_count": 4,
     "metadata": {},
     "output_type": "execute_result"
    }
   ],
   "source": [
    "li = []\n",
    "#read all the csv the | is the delimit\n",
    "for filename in all_files:\n",
    "    df = pd.read_csv(filename, index_col=None, header=0, sep='|')\n",
    "    df = df.iloc[:, 7:].fillna(0)\n",
    "    print(df.head())\n",
    "    print(df.shape)\n",
    "    li.append(df)\n",
    "df = pd.concat(li, axis=0, ignore_index=True)\n",
    "df.shape"
   ]
  },
  {
   "cell_type": "code",
   "execution_count": 5,
   "metadata": {},
   "outputs": [
    {
     "data": {
      "text/html": [
       "<div>\n",
       "<style scoped>\n",
       "    .dataframe tbody tr th:only-of-type {\n",
       "        vertical-align: middle;\n",
       "    }\n",
       "\n",
       "    .dataframe tbody tr th {\n",
       "        vertical-align: top;\n",
       "    }\n",
       "\n",
       "    .dataframe thead th {\n",
       "        text-align: right;\n",
       "    }\n",
       "</style>\n",
       "<table border=\"1\" class=\"dataframe\">\n",
       "  <thead>\n",
       "    <tr style=\"text-align: right;\">\n",
       "      <th></th>\n",
       "      <th>Count</th>\n",
       "      <th>Column Type</th>\n",
       "    </tr>\n",
       "  </thead>\n",
       "  <tbody>\n",
       "    <tr>\n",
       "      <th>0</th>\n",
       "      <td>No disposition</td>\n",
       "      <td>int64</td>\n",
       "    </tr>\n",
       "    <tr>\n",
       "      <th>1</th>\n",
       "      <td>Date mutation</td>\n",
       "      <td>object</td>\n",
       "    </tr>\n",
       "    <tr>\n",
       "      <th>2</th>\n",
       "      <td>Nature mutation</td>\n",
       "      <td>object</td>\n",
       "    </tr>\n",
       "    <tr>\n",
       "      <th>3</th>\n",
       "      <td>Valeur fonciere</td>\n",
       "      <td>object</td>\n",
       "    </tr>\n",
       "    <tr>\n",
       "      <th>4</th>\n",
       "      <td>No voie</td>\n",
       "      <td>float64</td>\n",
       "    </tr>\n",
       "    <tr>\n",
       "      <th>5</th>\n",
       "      <td>B/T/Q</td>\n",
       "      <td>object</td>\n",
       "    </tr>\n",
       "    <tr>\n",
       "      <th>6</th>\n",
       "      <td>Type de voie</td>\n",
       "      <td>object</td>\n",
       "    </tr>\n",
       "    <tr>\n",
       "      <th>7</th>\n",
       "      <td>Code voie</td>\n",
       "      <td>object</td>\n",
       "    </tr>\n",
       "    <tr>\n",
       "      <th>8</th>\n",
       "      <td>Voie</td>\n",
       "      <td>object</td>\n",
       "    </tr>\n",
       "    <tr>\n",
       "      <th>9</th>\n",
       "      <td>Code postal</td>\n",
       "      <td>float64</td>\n",
       "    </tr>\n",
       "    <tr>\n",
       "      <th>10</th>\n",
       "      <td>Commune</td>\n",
       "      <td>object</td>\n",
       "    </tr>\n",
       "    <tr>\n",
       "      <th>11</th>\n",
       "      <td>Code departement</td>\n",
       "      <td>object</td>\n",
       "    </tr>\n",
       "    <tr>\n",
       "      <th>12</th>\n",
       "      <td>Code commune</td>\n",
       "      <td>int64</td>\n",
       "    </tr>\n",
       "    <tr>\n",
       "      <th>13</th>\n",
       "      <td>Prefixe de section</td>\n",
       "      <td>float64</td>\n",
       "    </tr>\n",
       "    <tr>\n",
       "      <th>14</th>\n",
       "      <td>Section</td>\n",
       "      <td>object</td>\n",
       "    </tr>\n",
       "    <tr>\n",
       "      <th>15</th>\n",
       "      <td>No plan</td>\n",
       "      <td>int64</td>\n",
       "    </tr>\n",
       "    <tr>\n",
       "      <th>16</th>\n",
       "      <td>No Volume</td>\n",
       "      <td>object</td>\n",
       "    </tr>\n",
       "    <tr>\n",
       "      <th>17</th>\n",
       "      <td>1er lot</td>\n",
       "      <td>object</td>\n",
       "    </tr>\n",
       "    <tr>\n",
       "      <th>18</th>\n",
       "      <td>Surface Carrez du 1er lot</td>\n",
       "      <td>object</td>\n",
       "    </tr>\n",
       "    <tr>\n",
       "      <th>19</th>\n",
       "      <td>2eme lot</td>\n",
       "      <td>object</td>\n",
       "    </tr>\n",
       "    <tr>\n",
       "      <th>20</th>\n",
       "      <td>Surface Carrez du 2eme lot</td>\n",
       "      <td>object</td>\n",
       "    </tr>\n",
       "    <tr>\n",
       "      <th>21</th>\n",
       "      <td>3eme lot</td>\n",
       "      <td>object</td>\n",
       "    </tr>\n",
       "    <tr>\n",
       "      <th>22</th>\n",
       "      <td>Surface Carrez du 3eme lot</td>\n",
       "      <td>object</td>\n",
       "    </tr>\n",
       "    <tr>\n",
       "      <th>23</th>\n",
       "      <td>4eme lot</td>\n",
       "      <td>object</td>\n",
       "    </tr>\n",
       "    <tr>\n",
       "      <th>24</th>\n",
       "      <td>Surface Carrez du 4eme lot</td>\n",
       "      <td>object</td>\n",
       "    </tr>\n",
       "    <tr>\n",
       "      <th>25</th>\n",
       "      <td>5eme lot</td>\n",
       "      <td>object</td>\n",
       "    </tr>\n",
       "    <tr>\n",
       "      <th>26</th>\n",
       "      <td>Surface Carrez du 5eme lot</td>\n",
       "      <td>object</td>\n",
       "    </tr>\n",
       "    <tr>\n",
       "      <th>27</th>\n",
       "      <td>Nombre de lots</td>\n",
       "      <td>int64</td>\n",
       "    </tr>\n",
       "    <tr>\n",
       "      <th>28</th>\n",
       "      <td>Code type local</td>\n",
       "      <td>float64</td>\n",
       "    </tr>\n",
       "    <tr>\n",
       "      <th>29</th>\n",
       "      <td>Type local</td>\n",
       "      <td>object</td>\n",
       "    </tr>\n",
       "    <tr>\n",
       "      <th>30</th>\n",
       "      <td>Identifiant local</td>\n",
       "      <td>float64</td>\n",
       "    </tr>\n",
       "    <tr>\n",
       "      <th>31</th>\n",
       "      <td>Surface reelle bati</td>\n",
       "      <td>float64</td>\n",
       "    </tr>\n",
       "    <tr>\n",
       "      <th>32</th>\n",
       "      <td>Nombre pieces principales</td>\n",
       "      <td>float64</td>\n",
       "    </tr>\n",
       "    <tr>\n",
       "      <th>33</th>\n",
       "      <td>Nature culture</td>\n",
       "      <td>object</td>\n",
       "    </tr>\n",
       "    <tr>\n",
       "      <th>34</th>\n",
       "      <td>Nature culture speciale</td>\n",
       "      <td>object</td>\n",
       "    </tr>\n",
       "    <tr>\n",
       "      <th>35</th>\n",
       "      <td>Surface terrain</td>\n",
       "      <td>float64</td>\n",
       "    </tr>\n",
       "  </tbody>\n",
       "</table>\n",
       "</div>"
      ],
      "text/plain": [
       "                         Count Column Type\n",
       "0               No disposition       int64\n",
       "1                Date mutation      object\n",
       "2              Nature mutation      object\n",
       "3              Valeur fonciere      object\n",
       "4                      No voie     float64\n",
       "5                        B/T/Q      object\n",
       "6                 Type de voie      object\n",
       "7                    Code voie      object\n",
       "8                         Voie      object\n",
       "9                  Code postal     float64\n",
       "10                     Commune      object\n",
       "11            Code departement      object\n",
       "12                Code commune       int64\n",
       "13          Prefixe de section     float64\n",
       "14                     Section      object\n",
       "15                     No plan       int64\n",
       "16                   No Volume      object\n",
       "17                     1er lot      object\n",
       "18   Surface Carrez du 1er lot      object\n",
       "19                    2eme lot      object\n",
       "20  Surface Carrez du 2eme lot      object\n",
       "21                    3eme lot      object\n",
       "22  Surface Carrez du 3eme lot      object\n",
       "23                    4eme lot      object\n",
       "24  Surface Carrez du 4eme lot      object\n",
       "25                    5eme lot      object\n",
       "26  Surface Carrez du 5eme lot      object\n",
       "27              Nombre de lots       int64\n",
       "28             Code type local     float64\n",
       "29                  Type local      object\n",
       "30           Identifiant local     float64\n",
       "31         Surface reelle bati     float64\n",
       "32   Nombre pieces principales     float64\n",
       "33              Nature culture      object\n",
       "34     Nature culture speciale      object\n",
       "35             Surface terrain     float64"
      ]
     },
     "execution_count": 5,
     "metadata": {},
     "output_type": "execute_result"
    }
   ],
   "source": [
    "dtype_df = df.dtypes.reset_index()\n",
    "dtype_df.columns = [\"Count\", \"Column Type\"]\n",
    "dtype_df"
   ]
  },
  {
   "cell_type": "code",
   "execution_count": 6,
   "metadata": {},
   "outputs": [],
   "source": [
    "#Clean numerical data, repalce \",\" by \".\"\n",
    "#only appartement\n",
    "df = df.loc[df[\"Code type local\"] == 2]\n",
    "df[\"Surface Carrez du 1er lot\"] = df[\"Surface Carrez du 1er lot\"].str.replace(',','.').astype(float)\n",
    "df[\"Surface Carrez du 2eme lot\"] = df[\"Surface Carrez du 2eme lot\"].str.replace(',','.').astype(float)\n",
    "df[\"Surface Carrez du 3eme lot\"] = df[\"Surface Carrez du 3eme lot\"].str.replace(',','.').astype(float)\n",
    "df[\"Surface Carrez du 4eme lot\"] = df[\"Surface Carrez du 4eme lot\"].str.replace(',','.').astype(float)\n",
    "df[\"Surface Carrez du 5eme lot\"] = df[\"Surface Carrez du 5eme lot\"].str.replace(',','.').astype(float)\n",
    "df[\"Valeur fonciere\"] = df[\"Valeur fonciere\"].str.replace(',', '.').astype(float)"
   ]
  },
  {
   "cell_type": "code",
   "execution_count": 7,
   "metadata": {},
   "outputs": [
    {
     "data": {
      "text/html": [
       "<div>\n",
       "<style scoped>\n",
       "    .dataframe tbody tr th:only-of-type {\n",
       "        vertical-align: middle;\n",
       "    }\n",
       "\n",
       "    .dataframe tbody tr th {\n",
       "        vertical-align: top;\n",
       "    }\n",
       "\n",
       "    .dataframe thead th {\n",
       "        text-align: right;\n",
       "    }\n",
       "</style>\n",
       "<table border=\"1\" class=\"dataframe\">\n",
       "  <thead>\n",
       "    <tr style=\"text-align: right;\">\n",
       "      <th></th>\n",
       "      <th>Count</th>\n",
       "      <th>Column Type</th>\n",
       "    </tr>\n",
       "  </thead>\n",
       "  <tbody>\n",
       "    <tr>\n",
       "      <th>0</th>\n",
       "      <td>No disposition</td>\n",
       "      <td>int64</td>\n",
       "    </tr>\n",
       "    <tr>\n",
       "      <th>1</th>\n",
       "      <td>Date mutation</td>\n",
       "      <td>object</td>\n",
       "    </tr>\n",
       "    <tr>\n",
       "      <th>2</th>\n",
       "      <td>Nature mutation</td>\n",
       "      <td>object</td>\n",
       "    </tr>\n",
       "    <tr>\n",
       "      <th>3</th>\n",
       "      <td>Valeur fonciere</td>\n",
       "      <td>float64</td>\n",
       "    </tr>\n",
       "    <tr>\n",
       "      <th>4</th>\n",
       "      <td>No voie</td>\n",
       "      <td>float64</td>\n",
       "    </tr>\n",
       "    <tr>\n",
       "      <th>5</th>\n",
       "      <td>B/T/Q</td>\n",
       "      <td>object</td>\n",
       "    </tr>\n",
       "    <tr>\n",
       "      <th>6</th>\n",
       "      <td>Type de voie</td>\n",
       "      <td>object</td>\n",
       "    </tr>\n",
       "    <tr>\n",
       "      <th>7</th>\n",
       "      <td>Code voie</td>\n",
       "      <td>object</td>\n",
       "    </tr>\n",
       "    <tr>\n",
       "      <th>8</th>\n",
       "      <td>Voie</td>\n",
       "      <td>object</td>\n",
       "    </tr>\n",
       "    <tr>\n",
       "      <th>9</th>\n",
       "      <td>Code postal</td>\n",
       "      <td>float64</td>\n",
       "    </tr>\n",
       "    <tr>\n",
       "      <th>10</th>\n",
       "      <td>Commune</td>\n",
       "      <td>object</td>\n",
       "    </tr>\n",
       "    <tr>\n",
       "      <th>11</th>\n",
       "      <td>Code departement</td>\n",
       "      <td>object</td>\n",
       "    </tr>\n",
       "    <tr>\n",
       "      <th>12</th>\n",
       "      <td>Code commune</td>\n",
       "      <td>int64</td>\n",
       "    </tr>\n",
       "    <tr>\n",
       "      <th>13</th>\n",
       "      <td>Prefixe de section</td>\n",
       "      <td>float64</td>\n",
       "    </tr>\n",
       "    <tr>\n",
       "      <th>14</th>\n",
       "      <td>Section</td>\n",
       "      <td>object</td>\n",
       "    </tr>\n",
       "    <tr>\n",
       "      <th>15</th>\n",
       "      <td>No plan</td>\n",
       "      <td>int64</td>\n",
       "    </tr>\n",
       "    <tr>\n",
       "      <th>16</th>\n",
       "      <td>No Volume</td>\n",
       "      <td>object</td>\n",
       "    </tr>\n",
       "    <tr>\n",
       "      <th>17</th>\n",
       "      <td>1er lot</td>\n",
       "      <td>object</td>\n",
       "    </tr>\n",
       "    <tr>\n",
       "      <th>18</th>\n",
       "      <td>Surface Carrez du 1er lot</td>\n",
       "      <td>float64</td>\n",
       "    </tr>\n",
       "    <tr>\n",
       "      <th>19</th>\n",
       "      <td>2eme lot</td>\n",
       "      <td>object</td>\n",
       "    </tr>\n",
       "    <tr>\n",
       "      <th>20</th>\n",
       "      <td>Surface Carrez du 2eme lot</td>\n",
       "      <td>float64</td>\n",
       "    </tr>\n",
       "    <tr>\n",
       "      <th>21</th>\n",
       "      <td>3eme lot</td>\n",
       "      <td>object</td>\n",
       "    </tr>\n",
       "    <tr>\n",
       "      <th>22</th>\n",
       "      <td>Surface Carrez du 3eme lot</td>\n",
       "      <td>float64</td>\n",
       "    </tr>\n",
       "    <tr>\n",
       "      <th>23</th>\n",
       "      <td>4eme lot</td>\n",
       "      <td>object</td>\n",
       "    </tr>\n",
       "    <tr>\n",
       "      <th>24</th>\n",
       "      <td>Surface Carrez du 4eme lot</td>\n",
       "      <td>float64</td>\n",
       "    </tr>\n",
       "    <tr>\n",
       "      <th>25</th>\n",
       "      <td>5eme lot</td>\n",
       "      <td>object</td>\n",
       "    </tr>\n",
       "    <tr>\n",
       "      <th>26</th>\n",
       "      <td>Surface Carrez du 5eme lot</td>\n",
       "      <td>float64</td>\n",
       "    </tr>\n",
       "    <tr>\n",
       "      <th>27</th>\n",
       "      <td>Nombre de lots</td>\n",
       "      <td>int64</td>\n",
       "    </tr>\n",
       "    <tr>\n",
       "      <th>28</th>\n",
       "      <td>Code type local</td>\n",
       "      <td>float64</td>\n",
       "    </tr>\n",
       "    <tr>\n",
       "      <th>29</th>\n",
       "      <td>Type local</td>\n",
       "      <td>object</td>\n",
       "    </tr>\n",
       "    <tr>\n",
       "      <th>30</th>\n",
       "      <td>Identifiant local</td>\n",
       "      <td>float64</td>\n",
       "    </tr>\n",
       "    <tr>\n",
       "      <th>31</th>\n",
       "      <td>Surface reelle bati</td>\n",
       "      <td>float64</td>\n",
       "    </tr>\n",
       "    <tr>\n",
       "      <th>32</th>\n",
       "      <td>Nombre pieces principales</td>\n",
       "      <td>float64</td>\n",
       "    </tr>\n",
       "    <tr>\n",
       "      <th>33</th>\n",
       "      <td>Nature culture</td>\n",
       "      <td>object</td>\n",
       "    </tr>\n",
       "    <tr>\n",
       "      <th>34</th>\n",
       "      <td>Nature culture speciale</td>\n",
       "      <td>object</td>\n",
       "    </tr>\n",
       "    <tr>\n",
       "      <th>35</th>\n",
       "      <td>Surface terrain</td>\n",
       "      <td>float64</td>\n",
       "    </tr>\n",
       "  </tbody>\n",
       "</table>\n",
       "</div>"
      ],
      "text/plain": [
       "                         Count Column Type\n",
       "0               No disposition       int64\n",
       "1                Date mutation      object\n",
       "2              Nature mutation      object\n",
       "3              Valeur fonciere     float64\n",
       "4                      No voie     float64\n",
       "5                        B/T/Q      object\n",
       "6                 Type de voie      object\n",
       "7                    Code voie      object\n",
       "8                         Voie      object\n",
       "9                  Code postal     float64\n",
       "10                     Commune      object\n",
       "11            Code departement      object\n",
       "12                Code commune       int64\n",
       "13          Prefixe de section     float64\n",
       "14                     Section      object\n",
       "15                     No plan       int64\n",
       "16                   No Volume      object\n",
       "17                     1er lot      object\n",
       "18   Surface Carrez du 1er lot     float64\n",
       "19                    2eme lot      object\n",
       "20  Surface Carrez du 2eme lot     float64\n",
       "21                    3eme lot      object\n",
       "22  Surface Carrez du 3eme lot     float64\n",
       "23                    4eme lot      object\n",
       "24  Surface Carrez du 4eme lot     float64\n",
       "25                    5eme lot      object\n",
       "26  Surface Carrez du 5eme lot     float64\n",
       "27              Nombre de lots       int64\n",
       "28             Code type local     float64\n",
       "29                  Type local      object\n",
       "30           Identifiant local     float64\n",
       "31         Surface reelle bati     float64\n",
       "32   Nombre pieces principales     float64\n",
       "33              Nature culture      object\n",
       "34     Nature culture speciale      object\n",
       "35             Surface terrain     float64"
      ]
     },
     "execution_count": 7,
     "metadata": {},
     "output_type": "execute_result"
    }
   ],
   "source": [
    "dtype_df = df.dtypes.reset_index()\n",
    "dtype_df.columns = [\"Count\", \"Column Type\"]\n",
    "dtype_df"
   ]
  },
  {
   "cell_type": "code",
   "execution_count": 8,
   "metadata": {},
   "outputs": [
    {
     "data": {
      "text/plain": [
       "0     2.0\n",
       "13    2.0\n",
       "89    2.0\n",
       "94    2.0\n",
       "97    2.0\n",
       "Name: Code type local, dtype: float64"
      ]
     },
     "execution_count": 8,
     "metadata": {},
     "output_type": "execute_result"
    }
   ],
   "source": [
    "#fill nan by 0\n",
    "#filter all the surface carrez == 0\n",
    "df = df.fillna(0)\n",
    "df = df.loc[(df[\"Surface Carrez du 1er lot\"] != 0 )| (df[\"Surface Carrez du 2eme lot\"] != 0)|(df[\"Surface Carrez du 3eme lot\"] != 0)|(df[\"Surface Carrez du 4eme lot\"] != 0)|(df[\"Surface Carrez du 5eme lot\"] != 0)]\n",
    "df[\"Code type local\"].head()\n"
   ]
  },
  {
   "cell_type": "code",
   "execution_count": 9,
   "metadata": {},
   "outputs": [
    {
     "data": {
      "text/plain": [
       "(1197913, 36)"
      ]
     },
     "execution_count": 9,
     "metadata": {},
     "output_type": "execute_result"
    }
   ],
   "source": [
    "df.shape"
   ]
  },
  {
   "cell_type": "code",
   "execution_count": 10,
   "metadata": {},
   "outputs": [
    {
     "data": {
      "text/plain": [
       "(1197913, 37)"
      ]
     },
     "execution_count": 10,
     "metadata": {},
     "output_type": "execute_result"
    }
   ],
   "source": [
    "#create a id\n",
    "df[\"ID\"] = df[\"Code departement\"].map(str) + df[\"Code commune\"].map(str) + df[\"Prefixe de section\"].map(str) + df[\"Section\"].map(str) + df[\"No plan\"].map(str) + df[\"No disposition\"].map(str) + df[\"Type local\"].map(str) + df[\"Date mutation\"].map(str)\n",
    "df.shape\n"
   ]
  },
  {
   "cell_type": "code",
   "execution_count": 11,
   "metadata": {},
   "outputs": [
    {
     "data": {
      "text/plain": [
       "1135753"
      ]
     },
     "execution_count": 11,
     "metadata": {},
     "output_type": "execute_result"
    }
   ],
   "source": [
    "df[\"ID\"].nunique()"
   ]
  },
  {
   "cell_type": "code",
   "execution_count": 12,
   "metadata": {},
   "outputs": [],
   "source": [
    "#Sum all the surface carrez\n",
    "df[\"SurfaceCarrez\"] = df[\"Surface Carrez du 1er lot\"].astype(float) + df[\"Surface Carrez du 2eme lot\"].astype(float)+df[\"Surface Carrez du 3eme lot\"].astype(float) +df[\"Surface Carrez du 4eme lot\"].astype(float) +df[\"Surface Carrez du 5eme lot\"].astype(float)\n",
    "\n",
    "df = df.fillna(0)\n",
    "#filter valeur fonciere <= 0\n",
    "df = df.loc[df[\"Valeur fonciere\"] > 0]\n",
    "#find the price by M2\n",
    "df[\"PrixM2\"] = df[\"Valeur fonciere\"]  / df[\"SurfaceCarrez\"]\n",
    "df[\"Date mutation\"] = pd.to_datetime(df[\"Date mutation\"],format=\"%d/%m/%Y\")"
   ]
  },
  {
   "cell_type": "code",
   "execution_count": 13,
   "metadata": {},
   "outputs": [],
   "source": [
    "df[\"YearMonth\"] = df[\"Date mutation\"].dt.strftime('%Y%m')\n",
    "tmp = df.loc[df[\"Code departement\"] == 75].groupby(['YearMonth'])['PrixM2'].count()"
   ]
  },
  {
   "cell_type": "code",
   "execution_count": 14,
   "metadata": {},
   "outputs": [
    {
     "data": {
      "image/png": "[encoded data removed]",
      "text/plain": [
       "<Figure size 576x432 with 1 Axes>"
      ]
     },
     "metadata": {
      "needs_background": "light"
     },
     "output_type": "display_data"
    }
   ],
   "source": [
    "#we plot the price per M2, it's not very well represented\n",
    "plt.figure(figsize=(8,6))\n",
    "plt.scatter(range(df.shape[0]), np.sort(df.PrixM2.values))\n",
    "plt.xlabel('index', fontsize=12)\n",
    "plt.ylabel('PrixM2', fontsize=12)\n",
    "plt.show()"
   ]
  },
  {
   "cell_type": "code",
   "execution_count": 15,
   "metadata": {},
   "outputs": [
    {
     "data": {
      "image/png": "[encoded data removed]",
      "text/plain": [
       "<Figure size 576x432 with 1 Axes>"
      ]
     },
     "metadata": {
      "needs_background": "light"
     },
     "output_type": "display_data"
    }
   ],
   "source": [
    "#let's do a log do see it's better\n",
    "plt.figure(figsize=(8,6))\n",
    "plt.scatter(range(df.shape[0]), np.sort(np.log(df.PrixM2.values)))\n",
    "plt.xlabel('index', fontsize=12)\n",
    "plt.ylabel('PrixM2', fontsize=12)\n",
    "plt.show()"
   ]
  },
  {
   "cell_type": "code",
   "execution_count": 16,
   "metadata": {},
   "outputs": [
    {
     "data": {
      "image/png": "[encoded data removed]",
      "text/plain": [
       "<Figure size 864x432 with 1 Axes>"
      ]
     },
     "metadata": {
      "needs_background": "light"
     },
     "output_type": "display_data"
    }
   ],
   "source": [
    "#show the evolution of price in Paris 16ieme\n",
    "plt.figure(figsize=(12,6))\n",
    "sns.barplot(tmp.index, tmp, alpha=0.8, color=color[3])\n",
    "plt.xticks(rotation='vertical')\n",
    "plt.xlabel('Date', fontsize=12)\n",
    "plt.ylabel('number of transaction in Paris', fontsize=12)\n",
    "plt.show()"
   ]
  },
  {
   "cell_type": "code",
   "execution_count": 17,
   "metadata": {},
   "outputs": [],
   "source": [
    "tmp = df.loc[df[\"Code postal\"] == 75016].groupby(['YearMonth'])['PrixM2'].median()"
   ]
  },
  {
   "cell_type": "code",
   "execution_count": 18,
   "metadata": {},
   "outputs": [
    {
     "data": {
      "image/png": "[encoded data removed]",
      "text/plain": [
       "<Figure size 864x432 with 1 Axes>"
      ]
     },
     "metadata": {
      "needs_background": "light"
     },
     "output_type": "display_data"
    }
   ],
   "source": [
    "plt.figure(figsize=(12,6))\n",
    "sns.barplot(tmp.index, tmp, alpha=0.8, color=color[3])\n",
    "plt.xticks(rotation='vertical')\n",
    "plt.xlabel('Date', fontsize=12)\n",
    "plt.ylabel('Price', fontsize=12)\n",
    "plt.show()\n"
   ]
  },
  {
   "cell_type": "code",
   "execution_count": 24,
   "metadata": {},
   "outputs": [],
   "source": [
    "path = r\"\"\n",
    "df = pd.read_csv(path + \"appartement.csv\", index_col=0, header=0, sep=',')\n",
    "df[\"Date mutation\"] = pd.to_datetime(df[\"Date mutation\"],format=\"%Y/%m/%d\").astype(int)\n",
    "df = df.drop([\"No voie\", \"Type de voie\", \"Code voie\", \"Voie\", \"Commune\", \"Code commune\", \"Prefixe de section\", \"Section\", \"No plan\", \"No Volume\", \"1er lot\", \"2eme lot\", \"3eme lot\", \"4eme lot\", \"5eme lot\", \"ID\"], axis=1)\n"
   ]
  },
  {
   "cell_type": "code",
   "execution_count": 25,
   "metadata": {},
   "outputs": [
    {
     "name": "stdout",
     "output_type": "stream",
     "text": [
      "                         Count Column Type\n",
      "0               No disposition       int64\n",
      "1                Date mutation       int64\n",
      "2              Nature mutation       int64\n",
      "3              Valeur fonciere     float64\n",
      "4                  Code postal     float64\n",
      "5             Code departement      object\n",
      "6    Surface Carrez du 1er lot     float64\n",
      "7   Surface Carrez du 2eme lot     float64\n",
      "8   Surface Carrez du 3eme lot     float64\n",
      "9   Surface Carrez du 4eme lot     float64\n",
      "10  Surface Carrez du 5eme lot     float64\n",
      "11              Nombre de lots       int64\n",
      "12             Code type local     float64\n",
      "13         Surface reelle bati     float64\n",
      "14   Nombre pieces principales     float64\n",
      "15              Nature culture       int64\n",
      "16     Nature culture speciale       int64\n",
      "17             Surface terrain     float64\n",
      "18               SurfaceCarrez     float64\n",
      "19                      PrixM2     float64\n"
     ]
    }
   ],
   "source": [
    "dtype_df = df.dtypes.reset_index()\n",
    "dtype_df.columns = [\"Count\", \"Column Type\"]\n",
    "print(dtype_df)"
   ]
  },
  {
   "cell_type": "code",
   "execution_count": 26,
   "metadata": {},
   "outputs": [
    {
     "data": {
      "image/png": "[encoded data removed]",
      "text/plain": [
       "<Figure size 432x288 with 3 Axes>"
      ]
     },
     "metadata": {
      "needs_background": "light"
     },
     "output_type": "display_data"
    }
   ],
   "source": [
    "#let's print the mean the std and the median price per M2 by departement\n",
    "#before cleanning the data we can observe that mean or median are reasonable but the std is huge.\n",
    "#in fact, probalby due to recording error or unfrequent event, the total price and the surface may be extrem values.\n",
    "\n",
    "grouped = df.groupby([\"Code departement\"])['PrixM2']\n",
    "tmp = grouped.agg([np.median, np.mean, np.std])\n",
    "\n",
    "#plt.figure(figsize=(12,6))\n",
    "plt.subplot(3, 1, 3)\n",
    "sns.barplot(tmp.index, tmp['std'], alpha=0.8, color=color[3])\n",
    "plt.xticks(rotation='vertical')\n",
    "plt.xlabel('departement', fontsize=12)\n",
    "plt.ylabel('standard deviation', fontsize=12)\n",
    "\n",
    "plt.subplot(3, 1, 1)\n",
    "sns.barplot(tmp.index, tmp['mean'], alpha=0.8, color=color[3])\n",
    "plt.xticks(rotation='vertical')\n",
    "plt.xlabel('departement', fontsize=12)\n",
    "plt.ylabel('Mean Price', fontsize=12)\n",
    "\n",
    "plt.subplot(3, 1, 2)\n",
    "sns.barplot(tmp.index, tmp['median'], alpha=0.8, color=color[3])\n",
    "plt.xticks(rotation='vertical')\n",
    "plt.xlabel('departement', fontsize=12)\n",
    "plt.ylabel('Median Price', fontsize=12)\n",
    "\n",
    "\n",
    "plt.show()"
   ]
  },
  {
   "cell_type": "code",
   "execution_count": 23,
   "metadata": {},
   "outputs": [
    {
     "data": {
      "image/png": "[encoded data removed]",
      "text/plain": [
       "<Figure size 432x288 with 3 Axes>"
      ]
     },
     "metadata": {
      "needs_background": "light"
     },
     "output_type": "display_data"
    }
   ],
   "source": [
    "#let clean them, i filter the top 0.5% and the bottom 0.5%\n",
    "\n",
    "\n",
    "df = df[df['PrixM2'] < df['PrixM2'].quantile(0.995)]\n",
    "df = df[df['PrixM2'] > df['PrixM2'].quantile(0.005)]\n",
    "\n",
    "\n",
    "grouped = df.groupby([\"Code departement\"])['PrixM2']\n",
    "tmp = grouped.agg([np.median, np.mean, np.std])\n",
    "\n",
    "#plt.figure(figsize=(12,6))\n",
    "plt.subplot(3, 1, 3)\n",
    "sns.barplot(tmp.index, tmp['std'], alpha=0.8, color=color[3])\n",
    "plt.xticks(rotation='vertical')\n",
    "plt.xlabel('departement', fontsize=12)\n",
    "plt.ylabel('standard deviation', fontsize=12)\n",
    "\n",
    "plt.subplot(3, 1, 1)\n",
    "sns.barplot(tmp.index, tmp['mean'], alpha=0.8, color=color[3])\n",
    "plt.xticks(rotation='vertical')\n",
    "plt.xlabel('departement', fontsize=12)\n",
    "plt.ylabel('Mean Price', fontsize=12)\n",
    "\n",
    "plt.subplot(3, 1, 2)\n",
    "sns.barplot(tmp.index, tmp['median'], alpha=0.8, color=color[3])\n",
    "plt.xticks(rotation='vertical')\n",
    "plt.xlabel('departement', fontsize=12)\n",
    "plt.ylabel('Median Price', fontsize=12)\n",
    "\n",
    "\n",
    "plt.show()\n"
   ]
  },
  {
   "cell_type": "code",
   "execution_count": null,
   "metadata": {},
   "outputs": [],
   "source": []
  }
 ],
 "metadata": {
  "kernelspec": {
   "display_name": "Python 3",
   "language": "python",
   "name": "python3"
  },
  "language_info": {
   "codemirror_mode": {
    "name": "ipython",
    "version": 3
   },
   "file_extension": ".py",
   "mimetype": "text/x-python",
   "name": "python",
   "nbconvert_exporter": "python",
   "pygments_lexer": "ipython3",
   "version": "3.6.7"
  }
 },
 "nbformat": 4,
 "nbformat_minor": 2
}
